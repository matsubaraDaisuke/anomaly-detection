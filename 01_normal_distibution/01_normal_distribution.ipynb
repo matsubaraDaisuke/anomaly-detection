{
 "cells": [
  {
   "cell_type": "code",
   "execution_count": null,
   "metadata": {},
   "outputs": [],
   "source": [
    "# colab環境の場合は最初に実行\n",
    "!wget -O data/Davis.csv  https://raw.githubusercontent.com/matsubaraDaisuke/anomaly-detection/main/01_normal_distibution/data/Davis.csv"
   ]
  },
  {
   "cell_type": "markdown",
   "metadata": {},
   "source": [
    "# 分位点法"
   ]
  },
  {
   "cell_type": "code",
   "execution_count": null,
   "metadata": {},
   "outputs": [],
   "source": [
    "# coding: utf-8\n",
    "\n",
    "import matplotlib.pyplot as plt\n",
    "import numpy as np\n",
    "import pandas as pd\n",
    "import scipy as sp\n",
    "import scipy.stats\n",
    "from numpy import linalg as la\n",
    "from scipy.stats import norm\n",
    "import seaborn as sns\n",
    "\n",
    "davis = pd.read_csv('./data/Davis.csv').values\n",
    "x = davis[: ,2:3]\n",
    "# ヒストグラム分布を作る\n",
    "sns.distplot(x, fit = norm, color='k', kde=False, bins =50,rug=True)\n",
    "plt.show()\n",
    "# 平均ベクトル\n",
    "mx = x.mean(axis = 0)\n",
    "# 中心化データ\n",
    "xc = x - mx\n",
    "\n",
    "\n",
    "# 平均値からの誤差\n",
    "xc = x - mx\n",
    "# 誤差のばらつき\n",
    "sx = ( xc.T.dot(xc) / x[:,0].size ).astype(float)\n",
    "# 誤差と誤差のばらつきによる異常度の定義\n",
    "ap = np.dot(xc, np.linalg.inv(sx)) * xc\n",
    "plt.hist( ap,color='blue',bins=200)\n",
    "plt.show()\n",
    "# 閾値:分位点法\n",
    "th = 4.27\n",
    "plt.scatter(np.arange(ap.size), ap , color='b')\n",
    "plt.plot([0,200], [th,th] , color='red', linestyle='-', linewidth=1)\n",
    "plt.ylim(0,55)\n",
    "plt.show()\n",
    "\n"
   ]
  },
  {
   "cell_type": "markdown",
   "metadata": {},
   "source": [
    "# ホテリング法\n",
    "\n",
    "カイ２乗分布を用いて異常値を判定\n"
   ]
  },
  {
   "cell_type": "code",
   "execution_count": null,
   "metadata": {},
   "outputs": [],
   "source": [
    "# coding: utf-8\n",
    "\n",
    "import matplotlib.pyplot as plt\n",
    "import numpy as np\n",
    "import pandas as pd\n",
    "import scipy as sp\n",
    "import scipy.stats\n",
    "from numpy import linalg\n",
    "\n",
    "\n",
    "davis = pd.read_csv('./data/Davis.csv').values\n",
    "x = davis[: ,2:3]\n",
    "# 平均ベクトル\n",
    "mx = x.mean(axis = 0)\n",
    "# 中心化データ\n",
    "xc = x - mx\n",
    "# 標本分散ベクトル\n",
    "sx = ( xc.T.dot(xc) / x[:,0].size ).astype(float)\n",
    "# 異常度\n",
    "ap = np.dot(xc, np.linalg.inv(sx)) * xc\n",
    "# 閾値\n",
    "th = sp.stats.chi2.ppf(0.98,1)\n",
    "plt.scatter(np.arange(ap.size), ap , color='b')\n",
    "plt.plot([0,200], [th,th] , color='red', linestyle='-', linewidth=1)\n",
    "plt.ylim(0,55)\n",
    "plt.show()\n"
   ]
  },
  {
   "cell_type": "markdown",
   "metadata": {},
   "source": [
    "# ラベリング法\n",
    "\n",
    "データの偏りが発生しやすいので、分位点法かホテリング法と併用することが望ましい"
   ]
  },
  {
   "cell_type": "code",
   "execution_count": null,
   "metadata": {},
   "outputs": [],
   "source": []
  }
 ],
 "metadata": {
  "kernelspec": {
   "display_name": "Python 3.9.13 64-bit",
   "language": "python",
   "name": "python3"
  },
  "language_info": {
   "codemirror_mode": {
    "name": "ipython",
    "version": 3
   },
   "file_extension": ".py",
   "mimetype": "text/x-python",
   "name": "python",
   "nbconvert_exporter": "python",
   "pygments_lexer": "ipython3",
   "version": "3.9.13"
  },
  "orig_nbformat": 4,
  "vscode": {
   "interpreter": {
    "hash": "aee8b7b246df8f9039afb4144a1f6fd8d2ca17a180786b69acc140d282b71a49"
   }
  }
 },
 "nbformat": 4,
 "nbformat_minor": 2
}
