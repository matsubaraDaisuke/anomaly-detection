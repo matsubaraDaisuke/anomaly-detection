{
 "cells": [
  {
   "cell_type": "code",
   "execution_count": 1,
   "metadata": {},
   "outputs": [
    {
     "name": "stdout",
     "output_type": "stream",
     "text": [
      "[-0.20867957  0.03213864] 2.086999999999881\n"
     ]
    },
    {
     "data": {
      "image/png": "[encoded data removed]",
      "text/plain": [
       "<Figure size 432x288 with 1 Axes>"
      ]
     },
     "metadata": {
      "needs_background": "light"
     },
     "output_type": "display_data"
    }
   ],
   "source": [
    "import numpy as np \n",
    "import matplotlib.pyplot as plt\n",
    "np.random.seed(1)\n",
    "\n",
    "class SVM:\n",
    "\n",
    "    def __init__(self, learning_rate=0.001, lambda_param=0.01, n_iters=1000):\n",
    "        self.lr = learning_rate\n",
    "        self.lambda_param = lambda_param\n",
    "        self.n_iters = n_iters\n",
    "        self.w = None\n",
    "        self.b = None\n",
    "\n",
    "\n",
    "    def fit(self, X, y):\n",
    "        n_samples, n_features = X.shape\n",
    "        \n",
    "        y_ = np.where(y <= 0, -1, 1)\n",
    "        \n",
    "        self.w = np.zeros(n_features)\n",
    "        self.b = 0\n",
    "        for _ in range(self.n_iters):\n",
    "            for idx, x_i in enumerate(X):\n",
    "                condition = y_[idx] * (np.dot(x_i, self.w) - self.b) >= 1\n",
    "                if condition:\n",
    "                    self.w -= self.lr * (2 * self.lambda_param * self.w)\n",
    "                else:\n",
    "                    self.w -= self.lr * (2 * self.lambda_param * self.w - np.dot(x_i, y_[idx]))\n",
    "                    self.b -= self.lr * y_[idx]\n",
    "\n",
    "\n",
    "    def predict(self, X):\n",
    "        approx = np.dot(X, self.w) - self.b\n",
    "        return np.sign(approx)\n",
    "\n",
    "n = 40\n",
    "X,y=np.zeros((n,2)),np.zeros(n)\n",
    "X[0:20,0]=np.random.rand(n//2)-15\n",
    "X[20::,0]=np.random.rand(n//2)-5\n",
    "X[:,1]=(np.random.rand(n))\n",
    "X[0:2,0]=X[0:2,0]+10\n",
    "y[0:20]=np.ones(n//2)\n",
    "y[20::]=-np.ones(n//2)\n",
    "clf = SVM()\n",
    "clf.fit(X, y)\n",
    "print(clf.w, clf.b)\n",
    "\n",
    "def visualize_svm():\n",
    "     def get_hyperplane_value(x, w, b, offset):\n",
    "          return (-w[0] * x + b + offset) / w[1]\n",
    "     fig = plt.figure()\n",
    "     ax = fig.add_subplot(1,1,1)\n",
    "     plt.scatter(X[:,0], X[:,1], marker='o',c=y)\n",
    "\n",
    "     x0_1 = np.amin(X[:,0])\n",
    "     x0_2 = np.amax(X[:,0])\n",
    "\n",
    "     x1_1 = get_hyperplane_value(x0_1, clf.w, clf.b, 0)\n",
    "     x1_2 = get_hyperplane_value(x0_2, clf.w, clf.b, 0)\n",
    "\n",
    "     ax.plot([x0_1, x0_2],[x1_1, x1_2], 'r--')\n",
    "     x1_min = np.amin(X[:,1])\n",
    "     x1_max = np.amax(X[:,1])\n",
    "     ax.set_ylim([x1_min-3,x1_max+3])\n",
    "     plt.show()\n",
    "visualize_svm()"
   ]
  },
  {
   "cell_type": "code",
   "execution_count": 2,
   "metadata": {},
   "outputs": [
    {
     "name": "stdout",
     "output_type": "stream",
     "text": [
      "[[-0.16209737]\n",
      " [ 0.05577023]\n",
      " [-1.51181337]]\n"
     ]
    },
    {
     "data": {
      "image/png": "[encoded data removed]",
      "text/plain": [
       "<Figure size 432x288 with 1 Axes>"
      ]
     },
     "metadata": {
      "needs_background": "light"
     },
     "output_type": "display_data"
    }
   ],
   "source": [
    "import numpy as np\n",
    "from numpy import linalg as LA\n",
    "import matplotlib.pyplot as plt\n",
    "import time\n",
    "np.random.seed(111)\n",
    "\n",
    "if __name__ == '__main__':\n",
    "   start = time.time()\n",
    "\n",
    "n = 40\n",
    "x,y=np.zeros((3,n)),np.zeros(n)\n",
    "x[0,0:20]=np.random.randn(n//2)-15\n",
    "x[0,20::]=np.random.randn(n//2)-5\n",
    "x[1,:]=(np.random.randn(n))\n",
    "y[0:20]=np.ones(n//2)\n",
    "y[20::]=-np.ones(n//2)\n",
    "x[0,0:2]=x[0,0:2]+50\n",
    "x[2,::]=1\n",
    "l,e=0.0001,0.001\n",
    "t0=np.zeros((3,1))\n",
    "for i in range(1000):\n",
    "    m=np.dot(t0.T,x)*y\n",
    "    v=m+np.min([np.ones_like(m),np.max([np.zeros_like(m),1-m],axis=0)],axis=0)\n",
    "    a=np.abs(v-m)\n",
    "    w=np.ones_like(y)\n",
    "    for j in range(len(w)):\n",
    "        if a[0,j]>e:\n",
    "            w[j]=e/a[0,j]\n",
    "    w=np.reshape(w,[40,1])\n",
    "    t1= LA.inv(np.dot(x,(np.repeat(w,3,axis=1).T*x).T))+l*np.eye(3)\n",
    "    t2=np.dot(x,(w.T*v*y).T)\n",
    "    t=np.dot(t1,t2)\n",
    "    if LA.norm(t-t0)<0.1:\n",
    "        break\n",
    "    t0=t\n",
    "print(t)\n",
    "x1_min = np.amin(x[1,0:20])\n",
    "x1_max = np.amax(x[1,20::])\n",
    "z=[-16,5]\n",
    "plt.scatter(x[0,0:20], x[1,0:20], marker='o',c=y[0:20])\n",
    "plt.scatter(x[0,20::], x[1,20::], marker='x',c=y[20::])\n",
    "plt.plot(z,-(t[2]+z*t[0])/t[1],'k-')\n",
    "plt.ylim([x1_min-2,x1_max+2])\n",
    "plt.show()\n"
   ]
  },
  {
   "cell_type": "code",
   "execution_count": 4,
   "metadata": {},
   "outputs": [
    {
     "name": "stderr",
     "output_type": "stream",
     "text": [
      "2022-09-26 22:18:22.963970: I tensorflow/core/platform/cpu_feature_guard.cc:142] This TensorFlow binary is optimized with oneAPI Deep Neural Network Library (oneDNN) to use the following CPU instructions in performance-critical operations:  AVX2 FMA\n",
      "To enable them in other operations, rebuild TensorFlow with the appropriate compiler flags.\n"
     ]
    },
    {
     "ename": "AttributeError",
     "evalue": "module 'tensorflow' has no attribute 'placeholder'",
     "output_type": "error",
     "traceback": [
      "\u001b[0;31m---------------------------------------------------------------------------\u001b[0m",
      "\u001b[0;31mAttributeError\u001b[0m                            Traceback (most recent call last)",
      "\u001b[0;32m/var/folders/wk/ycz3ckgx1kq6s3pblh02wr0w0000gn/T/ipykernel_64610/783389869.py\u001b[0m in \u001b[0;36m<module>\u001b[0;34m\u001b[0m\n\u001b[1;32m     83\u001b[0m \u001b[0;34m\u001b[0m\u001b[0m\n\u001b[1;32m     84\u001b[0m \u001b[0;34m\u001b[0m\u001b[0m\n\u001b[0;32m---> 85\u001b[0;31m \u001b[0mmodel\u001b[0m\u001b[0;34m.\u001b[0m\u001b[0mfit\u001b[0m\u001b[0;34m(\u001b[0m\u001b[0mx\u001b[0m\u001b[0;34m,\u001b[0m \u001b[0my\u001b[0m\u001b[0;34m)\u001b[0m\u001b[0;34m\u001b[0m\u001b[0;34m\u001b[0m\u001b[0m\n\u001b[0m\u001b[1;32m     86\u001b[0m \u001b[0;34m\u001b[0m\u001b[0m\n\u001b[1;32m     87\u001b[0m plt.plot(\n",
      "\u001b[0;32m/var/folders/wk/ycz3ckgx1kq6s3pblh02wr0w0000gn/T/ipykernel_64610/783389869.py\u001b[0m in \u001b[0;36mfit\u001b[0;34m(self, X, y, epochs, learning_rate)\u001b[0m\n\u001b[1;32m     20\u001b[0m             \u001b[0my\u001b[0m \u001b[0;34m=\u001b[0m \u001b[0my\u001b[0m\u001b[0;34m.\u001b[0m\u001b[0mreshape\u001b[0m\u001b[0;34m(\u001b[0m\u001b[0;34m-\u001b[0m\u001b[0;36m1\u001b[0m\u001b[0;34m,\u001b[0m \u001b[0;36m1\u001b[0m\u001b[0;34m)\u001b[0m\u001b[0;34m\u001b[0m\u001b[0;34m\u001b[0m\u001b[0m\n\u001b[1;32m     21\u001b[0m \u001b[0;34m\u001b[0m\u001b[0m\n\u001b[0;32m---> 22\u001b[0;31m         \u001b[0mself\u001b[0m\u001b[0;34m.\u001b[0m\u001b[0mX\u001b[0m \u001b[0;34m=\u001b[0m \u001b[0mtf\u001b[0m\u001b[0;34m.\u001b[0m\u001b[0mplaceholder\u001b[0m\u001b[0;34m(\u001b[0m\u001b[0mdtype\u001b[0m\u001b[0;34m=\u001b[0m\u001b[0mtf\u001b[0m\u001b[0;34m.\u001b[0m\u001b[0mfloat32\u001b[0m\u001b[0;34m,\u001b[0m \u001b[0mshape\u001b[0m\u001b[0;34m=\u001b[0m\u001b[0;34m(\u001b[0m\u001b[0;32mNone\u001b[0m\u001b[0;34m,\u001b[0m \u001b[0mfeature_len\u001b[0m\u001b[0;34m)\u001b[0m\u001b[0;34m)\u001b[0m\u001b[0;34m\u001b[0m\u001b[0;34m\u001b[0m\u001b[0m\n\u001b[0m\u001b[1;32m     23\u001b[0m         \u001b[0mself\u001b[0m\u001b[0;34m.\u001b[0m\u001b[0my\u001b[0m \u001b[0;34m=\u001b[0m \u001b[0mtf\u001b[0m\u001b[0;34m.\u001b[0m\u001b[0mplaceholder\u001b[0m\u001b[0;34m(\u001b[0m\u001b[0mdtype\u001b[0m\u001b[0;34m=\u001b[0m\u001b[0mtf\u001b[0m\u001b[0;34m.\u001b[0m\u001b[0mfloat32\u001b[0m\u001b[0;34m,\u001b[0m \u001b[0mshape\u001b[0m\u001b[0;34m=\u001b[0m\u001b[0;34m(\u001b[0m\u001b[0;32mNone\u001b[0m\u001b[0;34m,\u001b[0m \u001b[0;36m1\u001b[0m\u001b[0;34m)\u001b[0m\u001b[0;34m)\u001b[0m\u001b[0;34m\u001b[0m\u001b[0;34m\u001b[0m\u001b[0m\n\u001b[1;32m     24\u001b[0m \u001b[0;34m\u001b[0m\u001b[0m\n",
      "\u001b[0;31mAttributeError\u001b[0m: module 'tensorflow' has no attribute 'placeholder'"
     ]
    },
    {
     "data": {
      "image/png": "[encoded data removed]",
      "text/plain": [
       "<Figure size 432x288 with 1 Axes>"
      ]
     },
     "metadata": {
      "needs_background": "light"
     },
     "output_type": "display_data"
    }
   ],
   "source": [
    "\n",
    "import numpy as np\n",
    "from matplotlib import pyplot as plt\n",
    "\n",
    "import tensorflow as tf\n",
    "tf.compat.v1.disable_eager_execution()\n",
    "\n",
    "class SVR(object):\n",
    "    def __init__(self, epsilon=0.5):\n",
    "        self.epsilon = epsilon\n",
    "\n",
    "    def fit(self, X, y, epochs=100, learning_rate=0.1):\n",
    "        #self.sess = tf.Session()\n",
    "        self.sess = tf.compat.v1.Session()\n",
    "\n",
    "        feature_len = X.shape[-1] if len(X.shape) > 1 else 1\n",
    "\n",
    "        if len(X.shape) == 1:\n",
    "            X = X.reshape(-1, 1)\n",
    "        if len(y.shape) == 1:\n",
    "            y = y.reshape(-1, 1)\n",
    "\n",
    "        self.X = tf.placeholder(dtype=tf.float32, shape=(None, feature_len))\n",
    "        self.y = tf.placeholder(dtype=tf.float32, shape=(None, 1))\n",
    "\n",
    "        self.W = tf.Variable(tf.random_normal(shape=(feature_len, 1)))\n",
    "        self.b = tf.Variable(tf.random_normal(shape=(1,)))\n",
    "        self.y_pred = tf.matmul(self.X, self.W) + self.b\n",
    "        #self.loss = tf.reduce_mean(tf.square(self.y - self.y_pred))\n",
    "        self.loss = tf.norm(self.W)/2 + tf.reduce_mean(tf.maximum(0., tf.abs(self.y_pred - self.y) - self.epsilon))\n",
    "        opt = tf.train.GradientDescentOptimizer(learning_rate=learning_rate)\n",
    "        opt_op = opt.minimize(self.loss)\n",
    "\n",
    "        self.sess.run(tf.global_variables_initializer())\n",
    "\n",
    "        for i in range(epochs):\n",
    "            loss = self.sess.run(\n",
    "                self.loss,\n",
    "                {\n",
    "                    self.X: X,\n",
    "                    self.y: y\n",
    "                }\n",
    "            )\n",
    "            print(\"{}/{}: loss: {}\".format(i + 1, epochs, loss))\n",
    "\n",
    "            self.sess.run(\n",
    "                opt_op,\n",
    "                {\n",
    "                    self.X: X,\n",
    "                    self.y: y\n",
    "                }\n",
    "            )\n",
    "\n",
    "        return self\n",
    "\n",
    "    def predict(self, X, y=None):\n",
    "        if len(X.shape) == 1:\n",
    "            X = X.reshape(-1, 1)\n",
    "\n",
    "        y_pred = self.sess.run(\n",
    "            self.y_pred,\n",
    "            {\n",
    "                self.X: X\n",
    "            }\n",
    "        )\n",
    "        return y_pred\n",
    "\n",
    "\n",
    "x = np.linspace(start=0, stop=5, num=20)\n",
    "\n",
    "\n",
    "m = 2\n",
    "c = 1\n",
    "\n",
    "y = m * x + c\n",
    "\n",
    "y += np.random.normal(size=(len(y),))\n",
    "\n",
    "\n",
    "plt.plot(x, y, \"x\")\n",
    "\n",
    "\n",
    "model = SVR(epsilon=0.2)\n",
    "\n",
    "\n",
    "model.fit(x, y)\n",
    "\n",
    "plt.plot(\n",
    "    x, y, \"x\",\n",
    "    x, model.predict(x), \"-\"\n",
    ")\n",
    "plt.legend([\"actual\", \"prediction\"])\n",
    "plt.show()\n",
    "\n",
    "\n",
    "\n"
   ]
  },
  {
   "cell_type": "code",
   "execution_count": null,
   "metadata": {},
   "outputs": [],
   "source": []
  }
 ],
 "metadata": {
  "kernelspec": {
   "display_name": "Python 3.8.7 64-bit ('3.8.7')",
   "language": "python",
   "name": "python3"
  },
  "language_info": {
   "codemirror_mode": {
    "name": "ipython",
    "version": 3
   },
   "file_extension": ".py",
   "mimetype": "text/x-python",
   "name": "python",
   "nbconvert_exporter": "python",
   "pygments_lexer": "ipython3",
   "version": "3.8.7"
  },
  "orig_nbformat": 4,
  "vscode": {
   "interpreter": {
    "hash": "2e8560964da23bcdeb097843399d45584492011848a720a86f4ab36a31ede5fc"
   }
  }
 },
 "nbformat": 4,
 "nbformat_minor": 2
}
